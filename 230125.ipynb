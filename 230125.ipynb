{
  "nbformat": 4,
  "nbformat_minor": 0,
  "metadata": {
    "colab": {
      "provenance": []
    },
    "kernelspec": {
      "name": "python3",
      "display_name": "Python 3"
    },
    "language_info": {
      "name": "python"
    }
  },
  "cells": [
    {
      "cell_type": "code",
      "execution_count": null,
      "metadata": {
        "id": "KU3HlIzvrZg2"
      },
      "outputs": [],
      "source": [
        "a=5"
      ]
    },
    {
      "cell_type": "code",
      "source": [
        "print(a)"
      ],
      "metadata": {
        "colab": {
          "base_uri": "https://localhost:8080/"
        },
        "id": "eE1IwPXWs2FO",
        "outputId": "921528f4-a788-4615-ef4e-94eb0e8b801e"
      },
      "execution_count": null,
      "outputs": [
        {
          "output_type": "stream",
          "name": "stdout",
          "text": [
            "5\n"
          ]
        }
      ]
    },
    {
      "cell_type": "code",
      "source": [
        "b=dict()\n",
        "b[\"a\"]=2\n",
        "b[\"b\"]=2\n",
        "b[\"c\"]=2\n",
        "print(b)\n",
        "b_v=b.values()\n",
        "b_k=b.keys()\n",
        "b_i=b.items()\n",
        "print(b_v)\n",
        "print(b_k)\n",
        "print(b_i)"
      ],
      "metadata": {
        "colab": {
          "base_uri": "https://localhost:8080/"
        },
        "id": "oFu1jyEHs4AM",
        "outputId": "434f8b1d-d8bf-457d-b4e9-ef0fd4936ccc"
      },
      "execution_count": null,
      "outputs": [
        {
          "output_type": "stream",
          "name": "stdout",
          "text": [
            "{'a': 2, 'b': 2, 'c': 2}\n",
            "dict_values([2, 2, 2])\n",
            "dict_keys(['a', 'b', 'c'])\n",
            "dict_items([('a', 2), ('b', 2), ('c', 2)])\n"
          ]
        }
      ]
    },
    {
      "cell_type": "code",
      "source": [
        "s=set([1,2,3,4])\n",
        "print(s)"
      ],
      "metadata": {
        "colab": {
          "base_uri": "https://localhost:8080/"
        },
        "id": "pE9W2LsNJqz1",
        "outputId": "3a3596eb-54d7-40bc-dffb-aa783501cb78"
      },
      "execution_count": null,
      "outputs": [
        {
          "output_type": "stream",
          "name": "stdout",
          "text": [
            "{1, 2, 3, 4}\n"
          ]
        }
      ]
    },
    {
      "cell_type": "code",
      "source": [
        "score=70\n",
        "\n",
        "if score >= 90:\n",
        "    print('A')\n",
        "elif score >= 80:\n",
        "    print('B')\n",
        "elif score>=70:\n",
        "    print('C')\n",
        "elif score>=60:\n",
        "    print('D')\n",
        "else:\n",
        "    print('F')"
      ],
      "metadata": {
        "colab": {
          "base_uri": "https://localhost:8080/"
        },
        "id": "Nnghy8w0JxTM",
        "outputId": "d717070d-1103-43d7-bd1d-f69cf66e22cb"
      },
      "execution_count": null,
      "outputs": [
        {
          "output_type": "stream",
          "name": "stdout",
          "text": [
            "C\n"
          ]
        }
      ]
    },
    {
      "cell_type": "code",
      "source": [
        "import pandas as pd\n",
        "\n",
        "df=pd.read_csv('gapminder.tsv',sep='\\t')\n",
        "print(df)"
      ],
      "metadata": {
        "colab": {
          "base_uri": "https://localhost:8080/"
        },
        "id": "u73qj96_YXMs",
        "outputId": "1337716f-55a6-4469-fda1-fef054b1a3e7"
      },
      "execution_count": null,
      "outputs": [
        {
          "output_type": "stream",
          "name": "stdout",
          "text": [
            "          country continent  year  lifeExp       pop   gdpPercap\n",
            "0     Afghanistan      Asia  1952   28.801   8425333  779.445314\n",
            "1     Afghanistan      Asia  1957   30.332   9240934  820.853030\n",
            "2     Afghanistan      Asia  1962   31.997  10267083  853.100710\n",
            "3     Afghanistan      Asia  1967   34.020  11537966  836.197138\n",
            "4     Afghanistan      Asia  1972   36.088  13079460  739.981106\n",
            "...           ...       ...   ...      ...       ...         ...\n",
            "1699     Zimbabwe    Africa  1987   62.351   9216418  706.157306\n",
            "1700     Zimbabwe    Africa  1992   60.377  10704340  693.420786\n",
            "1701     Zimbabwe    Africa  1997   46.809  11404948  792.449960\n",
            "1702     Zimbabwe    Africa  2002   39.989  11926563  672.038623\n",
            "1703     Zimbabwe    Africa  2007   43.487  12311143  469.709298\n",
            "\n",
            "[1704 rows x 6 columns]\n"
          ]
        }
      ]
    },
    {
      "cell_type": "code",
      "source": [
        "df.info()"
      ],
      "metadata": {
        "colab": {
          "base_uri": "https://localhost:8080/"
        },
        "id": "D4vYplEdavvL",
        "outputId": "c3a62ac1-81e4-432f-b3b3-5230d339472a"
      },
      "execution_count": null,
      "outputs": [
        {
          "output_type": "stream",
          "name": "stdout",
          "text": [
            "<class 'pandas.core.frame.DataFrame'>\n",
            "RangeIndex: 1704 entries, 0 to 1703\n",
            "Data columns (total 6 columns):\n",
            " #   Column     Non-Null Count  Dtype  \n",
            "---  ------     --------------  -----  \n",
            " 0   country    1704 non-null   object \n",
            " 1   continent  1704 non-null   object \n",
            " 2   year       1704 non-null   int64  \n",
            " 3   lifeExp    1704 non-null   float64\n",
            " 4   pop        1704 non-null   int64  \n",
            " 5   gdpPercap  1704 non-null   float64\n",
            "dtypes: float64(2), int64(2), object(2)\n",
            "memory usage: 80.0+ KB\n"
          ]
        }
      ]
    },
    {
      "cell_type": "code",
      "source": [
        "df.loc[0][[\"country\",\"year\"]]"
      ],
      "metadata": {
        "colab": {
          "base_uri": "https://localhost:8080/"
        },
        "id": "FGbZ4EFobcnh",
        "outputId": "c80added-a0d7-40a5-b7d7-7d760c52cfe0"
      },
      "execution_count": null,
      "outputs": [
        {
          "output_type": "execute_result",
          "data": {
            "text/plain": [
              "country    Afghanistan\n",
              "year              1952\n",
              "Name: 0, dtype: object"
            ]
          },
          "metadata": {},
          "execution_count": 25
        }
      ]
    },
    {
      "cell_type": "code",
      "source": [
        "print(df.iloc[0,0],df.iloc[0][0])"
      ],
      "metadata": {
        "colab": {
          "base_uri": "https://localhost:8080/"
        },
        "id": "zD4pMSiebe1R",
        "outputId": "2de7706b-0099-4d77-c6ee-9c7249fe4e9c"
      },
      "execution_count": null,
      "outputs": [
        {
          "output_type": "stream",
          "name": "stdout",
          "text": [
            "Afghanistan Afghanistan\n"
          ]
        }
      ]
    },
    {
      "cell_type": "code",
      "source": [
        "year=df[\"year\"]\n",
        "print(year.drop_duplicates())"
      ],
      "metadata": {
        "colab": {
          "base_uri": "https://localhost:8080/"
        },
        "id": "BFzvY7BzcjGJ",
        "outputId": "f5a1aa3d-0e9f-438c-edc3-284381cb4005"
      },
      "execution_count": null,
      "outputs": [
        {
          "output_type": "stream",
          "name": "stdout",
          "text": [
            "0     1952\n",
            "1     1957\n",
            "2     1962\n",
            "3     1967\n",
            "4     1972\n",
            "5     1977\n",
            "6     1982\n",
            "7     1987\n",
            "8     1992\n",
            "9     1997\n",
            "10    2002\n",
            "11    2007\n",
            "Name: year, dtype: int64\n"
          ]
        }
      ]
    },
    {
      "cell_type": "code",
      "source": [
        "D_T=pd.DataFrame({\n",
        "    \"이름\" : [\"이\",\"김\",\"박\",\"나\"],\n",
        "    \"성별\" : [\"남\",\"녀\",\"노\",\"소\"],\n",
        "    \"나이\" : [40,20,30,10]\n",
        "},columns=[\"성별\",\"나이\",\"이름\"])\n",
        "print(D_T)"
      ],
      "metadata": {
        "colab": {
          "base_uri": "https://localhost:8080/"
        },
        "id": "zEe8UtrGiYGD",
        "outputId": "1f3abba1-340d-49e9-a28f-6d6a2830f707"
      },
      "execution_count": null,
      "outputs": [
        {
          "output_type": "stream",
          "name": "stdout",
          "text": [
            "  성별  나이 이름\n",
            "0  남  40  이\n",
            "1  녀  20  김\n",
            "2  노  30  박\n",
            "3  소  10  나\n"
          ]
        }
      ]
    },
    {
      "cell_type": "code",
      "source": [
        "a=df['year']>=2000\n",
        "b=df['country']=='Zimbabwe'\n",
        "c=df['country'].isin([\"Zimbabwe\"])\n",
        "print(df[c])"
      ],
      "metadata": {
        "colab": {
          "base_uri": "https://localhost:8080/"
        },
        "id": "3tWM97i0jNF1",
        "outputId": "b426feac-f71d-4226-9fcd-0b484b66fe90"
      },
      "execution_count": null,
      "outputs": [
        {
          "output_type": "stream",
          "name": "stdout",
          "text": [
            "       country continent  year  lifeExp       pop   gdpPercap\n",
            "1692  Zimbabwe    Africa  1952   48.451   3080907  406.884115\n",
            "1693  Zimbabwe    Africa  1957   50.469   3646340  518.764268\n",
            "1694  Zimbabwe    Africa  1962   52.358   4277736  527.272182\n",
            "1695  Zimbabwe    Africa  1967   53.995   4995432  569.795071\n",
            "1696  Zimbabwe    Africa  1972   55.635   5861135  799.362176\n",
            "1697  Zimbabwe    Africa  1977   57.674   6642107  685.587682\n",
            "1698  Zimbabwe    Africa  1982   60.363   7636524  788.855041\n",
            "1699  Zimbabwe    Africa  1987   62.351   9216418  706.157306\n",
            "1700  Zimbabwe    Africa  1992   60.377  10704340  693.420786\n",
            "1701  Zimbabwe    Africa  1997   46.809  11404948  792.449960\n",
            "1702  Zimbabwe    Africa  2002   39.989  11926563  672.038623\n",
            "1703  Zimbabwe    Africa  2007   43.487  12311143  469.709298\n"
          ]
        }
      ]
    },
    {
      "cell_type": "code",
      "source": [
        "df1=pd.read_csv(\"person_info.csv\",encoding=\"euc-kr\")\n",
        "a=df1[\"나이\"]>df1[\"나이\"].mean()\n",
        "b=df1[\"직업\"]==\"연구원\"\n",
        "print(df1[a&b])"
      ],
      "metadata": {
        "colab": {
          "base_uri": "https://localhost:8080/"
        },
        "id": "B18ayn9KkkS9",
        "outputId": "1df07dc0-b108-4a39-c5e9-33ec11922257"
      },
      "execution_count": null,
      "outputs": [
        {
          "output_type": "stream",
          "name": "stdout",
          "text": [
            "    이름         출생일         사망일  나이   직업\n",
            "3  곽재우  1867-11-07  1934-07-04  66  연구원\n"
          ]
        }
      ]
    },
    {
      "cell_type": "code",
      "source": [
        "df1['출생일']=pd.to_datetime(df1['출생일'],format='%Y-%m-%d') #4자리 연도 Y, 2자리 연도 y"
      ],
      "metadata": {
        "id": "1pJN3g0znPBN"
      },
      "execution_count": null,
      "outputs": []
    },
    {
      "cell_type": "code",
      "source": [
        "df1.info()"
      ],
      "metadata": {
        "colab": {
          "base_uri": "https://localhost:8080/"
        },
        "id": "L55Lkxxynh2c",
        "outputId": "47185811-7072-4995-826b-d62c6d6e3da4"
      },
      "execution_count": null,
      "outputs": [
        {
          "output_type": "stream",
          "name": "stdout",
          "text": [
            "<class 'pandas.core.frame.DataFrame'>\n",
            "RangeIndex: 8 entries, 0 to 7\n",
            "Data columns (total 5 columns):\n",
            " #   Column  Non-Null Count  Dtype         \n",
            "---  ------  --------------  -----         \n",
            " 0   이름      8 non-null      object        \n",
            " 1   출생일     8 non-null      datetime64[ns]\n",
            " 2   사망일     8 non-null      object        \n",
            " 3   나이      8 non-null      int64         \n",
            " 4   직업      8 non-null      object        \n",
            "dtypes: datetime64[ns](1), int64(1), object(3)\n",
            "memory usage: 448.0+ bytes\n"
          ]
        }
      ]
    },
    {
      "cell_type": "code",
      "source": [
        "df1['사망일']=pd.to_datetime(df1['사망일'],format='%Y-%m-%d')\n",
        "print(df1['사망일']-df1['출생일'])"
      ],
      "metadata": {
        "colab": {
          "base_uri": "https://localhost:8080/"
        },
        "id": "QskbMenvnkQD",
        "outputId": "ea9def4b-2078-4f92-9f91-bdc6d8c59547"
      },
      "execution_count": null,
      "outputs": [
        {
          "output_type": "stream",
          "name": "stdout",
          "text": [
            "0   13779 days\n",
            "1   22404 days\n",
            "2   32964 days\n",
            "3   24345 days\n",
            "4   20777 days\n",
            "5   16529 days\n",
            "6   15324 days\n",
            "7   28422 days\n",
            "dtype: timedelta64[ns]\n"
          ]
        }
      ]
    },
    {
      "cell_type": "code",
      "source": [
        "result=df.groupby([\"continent\",\"year\"])['lifeExp'].mean()\n",
        "print(result)"
      ],
      "metadata": {
        "colab": {
          "base_uri": "https://localhost:8080/"
        },
        "id": "uxDuE8o8oPxE",
        "outputId": "bf754e4a-e673-48a8-eeb1-c5403d411ffc"
      },
      "execution_count": null,
      "outputs": [
        {
          "output_type": "stream",
          "name": "stdout",
          "text": [
            "continent  year\n",
            "Africa     1952    39.135500\n",
            "           1957    41.266346\n",
            "           1962    43.319442\n",
            "           1967    45.334538\n",
            "           1972    47.450942\n",
            "           1977    49.580423\n",
            "           1982    51.592865\n",
            "           1987    53.344788\n",
            "           1992    53.629577\n",
            "           1997    53.598269\n",
            "           2002    53.325231\n",
            "           2007    54.806038\n",
            "Americas   1952    53.279840\n",
            "           1957    55.960280\n",
            "           1962    58.398760\n",
            "           1967    60.410920\n",
            "           1972    62.394920\n",
            "           1977    64.391560\n",
            "           1982    66.228840\n",
            "           1987    68.090720\n",
            "           1992    69.568360\n",
            "           1997    71.150480\n",
            "           2002    72.422040\n",
            "           2007    73.608120\n",
            "Asia       1952    46.314394\n",
            "           1957    49.318544\n",
            "           1962    51.563223\n",
            "           1967    54.663640\n",
            "           1972    57.319269\n",
            "           1977    59.610556\n",
            "           1982    62.617939\n",
            "           1987    64.851182\n",
            "           1992    66.537212\n",
            "           1997    68.020515\n",
            "           2002    69.233879\n",
            "           2007    70.728485\n",
            "Europe     1952    64.408500\n",
            "           1957    66.703067\n",
            "           1962    68.539233\n",
            "           1967    69.737600\n",
            "           1972    70.775033\n",
            "           1977    71.937767\n",
            "           1982    72.806400\n",
            "           1987    73.642167\n",
            "           1992    74.440100\n",
            "           1997    75.505167\n",
            "           2002    76.700600\n",
            "           2007    77.648600\n",
            "Oceania    1952    69.255000\n",
            "           1957    70.295000\n",
            "           1962    71.085000\n",
            "           1967    71.310000\n",
            "           1972    71.910000\n",
            "           1977    72.855000\n",
            "           1982    74.290000\n",
            "           1987    75.320000\n",
            "           1992    76.945000\n",
            "           1997    78.190000\n",
            "           2002    79.740000\n",
            "           2007    80.719500\n",
            "Name: lifeExp, dtype: float64\n"
          ]
        }
      ]
    },
    {
      "cell_type": "code",
      "source": [
        "result=df.groupby(\"continent\")['country']\n",
        "print(result)"
      ],
      "metadata": {
        "colab": {
          "base_uri": "https://localhost:8080/"
        },
        "id": "jVWRm9owqKzn",
        "outputId": "938a39d9-769f-4dca-cdbe-d558e50c67d9"
      },
      "execution_count": null,
      "outputs": [
        {
          "output_type": "stream",
          "name": "stdout",
          "text": [
            "<pandas.core.groupby.generic.SeriesGroupBy object at 0x7f775c952910>\n"
          ]
        }
      ]
    },
    {
      "cell_type": "code",
      "source": [
        "import matplotlib.pyplot as plt\n",
        "import seaborn as sns\n",
        "\n",
        "anscombe = sns.load_dataset('anscombe')\n",
        "data1=anscombe[anscombe['dataset']=='I']\n",
        "data2=anscombe[anscombe['dataset']=='II']\n",
        "data3=anscombe[anscombe['dataset']=='III']\n",
        "data4=anscombe[anscombe['dataset']=='IV']\n",
        "print(data1.mean())\n",
        "print(data2.mean())\n",
        "print(data3.mean())\n",
        "print(data4.mean())"
      ],
      "metadata": {
        "colab": {
          "base_uri": "https://localhost:8080/"
        },
        "id": "Qxtm27W6vTbe",
        "outputId": "2c106f2c-715f-487c-9f98-7475ddba98bd"
      },
      "execution_count": null,
      "outputs": [
        {
          "output_type": "stream",
          "name": "stdout",
          "text": [
            "x    9.000000\n",
            "y    7.500909\n",
            "dtype: float64\n",
            "x    9.000000\n",
            "y    7.500909\n",
            "dtype: float64\n",
            "x    9.0\n",
            "y    7.5\n",
            "dtype: float64\n",
            "x    9.000000\n",
            "y    7.500909\n",
            "dtype: float64\n"
          ]
        },
        {
          "output_type": "stream",
          "name": "stderr",
          "text": [
            "<ipython-input-36-8fa065ae04dc>:9: FutureWarning: Dropping of nuisance columns in DataFrame reductions (with 'numeric_only=None') is deprecated; in a future version this will raise TypeError.  Select only valid columns before calling the reduction.\n",
            "  print(data1.mean())\n",
            "<ipython-input-36-8fa065ae04dc>:10: FutureWarning: Dropping of nuisance columns in DataFrame reductions (with 'numeric_only=None') is deprecated; in a future version this will raise TypeError.  Select only valid columns before calling the reduction.\n",
            "  print(data2.mean())\n",
            "<ipython-input-36-8fa065ae04dc>:11: FutureWarning: Dropping of nuisance columns in DataFrame reductions (with 'numeric_only=None') is deprecated; in a future version this will raise TypeError.  Select only valid columns before calling the reduction.\n",
            "  print(data3.mean())\n",
            "<ipython-input-36-8fa065ae04dc>:12: FutureWarning: Dropping of nuisance columns in DataFrame reductions (with 'numeric_only=None') is deprecated; in a future version this will raise TypeError.  Select only valid columns before calling the reduction.\n",
            "  print(data4.mean())\n"
          ]
        }
      ]
    },
    {
      "cell_type": "code",
      "source": [
        "fig=plt.figure()\n",
        "\n",
        "ax1=fig.add_subplot(2,2,1) #2행 2열 1번 인덱스\n",
        "ax2=fig.add_subplot(2,2,2)\n",
        "ax3=fig.add_subplot(2,2,3)\n",
        "ax4=fig.add_subplot(2,2,4)\n",
        "\n",
        "fig.suptitle('Anscombe Data')\n",
        "ax1.set_title('data1')\n",
        "ax2.set_title('data2')\n",
        "ax3.set_title('data3')\n",
        "ax4.set_title('data4')\n",
        "ax1.scatter(x=data1['x'],y=data1['y'])\n",
        "ax2.scatter(x=data2['x'],y=data2['y'])\n",
        "ax3.scatter(x=data3['x'],y=data3['y'])\n",
        "ax4.scatter(x=data4['x'],y=data4['y'])\n"
      ],
      "metadata": {
        "colab": {
          "base_uri": "https://localhost:8080/",
          "height": 312
        },
        "id": "pRuuFT82xe4H",
        "outputId": "03c13d1e-0fa0-4e3a-d2b3-c9e3dba5569a"
      },
      "execution_count": null,
      "outputs": [
        {
          "output_type": "execute_result",
          "data": {
            "text/plain": [
              "<matplotlib.collections.PathCollection at 0x7f775c7d2250>"
            ]
          },
          "metadata": {},
          "execution_count": 37
        },
        {
          "output_type": "display_data",
          "data": {
            "text/plain": [
              "<Figure size 432x288 with 4 Axes>"
            ],
            "image/png": "[encoded data removed]"
          },
          "metadata": {
            "needs_background": "light"
          }
        }
      ]
    },
    {
      "cell_type": "code",
      "source": [
        "fig.tight_layout()\n",
        "fig"
      ],
      "metadata": {
        "colab": {
          "base_uri": "https://localhost:8080/",
          "height": 302
        },
        "id": "Ob1CT5ilywYn",
        "outputId": "5b65405e-2267-44f0-d6bb-fe2147504cef"
      },
      "execution_count": null,
      "outputs": [
        {
          "output_type": "execute_result",
          "data": {
            "text/plain": [
              "<Figure size 432x288 with 4 Axes>"
            ],
            "image/png": "[encoded data removed]"
          },
          "metadata": {},
          "execution_count": 38
        }
      ]
    },
    {
      "cell_type": "code",
      "source": [
        "tips = sns.load_dataset('tips')\n",
        "fig2=plt.figure()\n",
        "ax=fig2.add_subplot(1,1,1)\n",
        "ax.hist(tips['total_bill'])\n",
        "\n",
        "# 하나의 특성만을 표현하는 그래프 일변량 그래프\n",
        "ax.set_title(\"My Histogram\")\n",
        "ax.set_ylabel(\"Freq.\")\n",
        "ax.set_xlabel(\"Total Bill\")"
      ],
      "metadata": {
        "colab": {
          "base_uri": "https://localhost:8080/",
          "height": 313
        },
        "id": "UuEM0rGiziVX",
        "outputId": "11697ec5-90e2-49ef-d4a1-afd6cf47ea24"
      },
      "execution_count": null,
      "outputs": [
        {
          "output_type": "execute_result",
          "data": {
            "text/plain": [
              "Text(0.5, 0, 'Total Bill')"
            ]
          },
          "metadata": {},
          "execution_count": 39
        },
        {
          "output_type": "display_data",
          "data": {
            "text/plain": [
              "<Figure size 432x288 with 1 Axes>"
            ],
            "image/png": "[encoded data removed]"
          },
          "metadata": {
            "needs_background": "light"
          }
        }
      ]
    },
    {
      "cell_type": "code",
      "source": [
        "plt.scatter(x=tips['total_bill'],y=tips['tip'],c=tips['size'],s=tips['size']*20)"
      ],
      "metadata": {
        "colab": {
          "base_uri": "https://localhost:8080/",
          "height": 283
        },
        "id": "PvMBLbMN0E5Q",
        "outputId": "b54f9c18-71c0-4a62-c377-ec94124609ac"
      },
      "execution_count": null,
      "outputs": [
        {
          "output_type": "execute_result",
          "data": {
            "text/plain": [
              "<matplotlib.collections.PathCollection at 0x7f7759ec17c0>"
            ]
          },
          "metadata": {},
          "execution_count": 40
        },
        {
          "output_type": "display_data",
          "data": {
            "text/plain": [
              "<Figure size 432x288 with 1 Axes>"
            ],
            "image/png": "[encoded data removed]"
          },
          "metadata": {
            "needs_background": "light"
          }
        }
      ]
    },
    {
      "cell_type": "code",
      "source": [
        "import numpy as np\n",
        "\n",
        "x=np.arange(-5,5,0.1)\n",
        "y1=np.sin(x)\n",
        "y2=np.cos(x)\n",
        "plt.plot(x,y1)\n",
        "plt.plot(x,y2)\n",
        "plt.legend(['sin','cos'])\n",
        "\n",
        "y3=x**3-12*x\n",
        "plt.plot(x,y3)"
      ],
      "metadata": {
        "colab": {
          "base_uri": "https://localhost:8080/",
          "height": 283
        },
        "id": "g_Yu7a1p1Qk4",
        "outputId": "dfab6af4-2c85-43df-c117-a568487292b3"
      },
      "execution_count": null,
      "outputs": [
        {
          "output_type": "execute_result",
          "data": {
            "text/plain": [
              "[<matplotlib.lines.Line2D at 0x7f7759eaf2e0>]"
            ]
          },
          "metadata": {},
          "execution_count": 41
        },
        {
          "output_type": "display_data",
          "data": {
            "text/plain": [
              "<Figure size 432x288 with 1 Axes>"
            ],
            "image/png": "[encoded data removed]"
          },
          "metadata": {
            "needs_background": "light"
          }
        }
      ]
    },
    {
      "cell_type": "code",
      "source": [
        "tips['total_bill'].plot.hist()"
      ],
      "metadata": {
        "colab": {
          "base_uri": "https://localhost:8080/",
          "height": 283
        },
        "id": "L8SYjzB8tQ0m",
        "outputId": "af99f3ed-d40b-4a7d-c2f4-aebe7d30af27"
      },
      "execution_count": null,
      "outputs": [
        {
          "output_type": "execute_result",
          "data": {
            "text/plain": [
              "<matplotlib.axes._subplots.AxesSubplot at 0x7f7759e5f4f0>"
            ]
          },
          "metadata": {},
          "execution_count": 42
        },
        {
          "output_type": "display_data",
          "data": {
            "text/plain": [
              "<Figure size 432x288 with 1 Axes>"
            ],
            "image/png": "[encoded data removed]"
          },
          "metadata": {
            "needs_background": "light"
          }
        }
      ]
    },
    {
      "cell_type": "code",
      "source": [],
      "metadata": {
        "id": "xepSf7vdtVVd"
      },
      "execution_count": null,
      "outputs": []
    },
    {
      "cell_type": "code",
      "source": [],
      "metadata": {
        "id": "4qokmM4ltUQG"
      },
      "execution_count": null,
      "outputs": []
    }
  ]
}